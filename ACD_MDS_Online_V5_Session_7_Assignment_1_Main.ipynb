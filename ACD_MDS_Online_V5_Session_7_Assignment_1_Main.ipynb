{
 "cells": [
  {
   "cell_type": "code",
   "execution_count": 7,
   "metadata": {},
   "outputs": [
    {
     "data": {
      "text/plain": [
       "[25.0, 35.0, 45.0, 55.0, 65.0, 75.0, 85.0]"
      ]
     },
     "execution_count": 7,
     "metadata": {},
     "output_type": "execute_result"
    }
   ],
   "source": [
    "#################################### Session 7: Assignment 1 #####################################\n",
    "# Given a sequence of n values x1, x2, ..., xn and a window size k>0, the k-th moving\n",
    "# average of the given sequence is defined as follows:\n",
    "# The moving average sequence has n-k+1 elements as shown below.\n",
    "# The moving averages with k=4 of a ten-value sequence (n=10) is shown below\n",
    "# i 1 2 3 4 5 6 7 8 9 10\n",
    "# ===== == == == == == == == == == ==\n",
    "# Input 10 20 30 40 50 60 70 80 90 100\n",
    "# y1 25 = (10+20+30+40)/4\n",
    "# y2 35 = (20+30+40+50)/4\n",
    "# y3 45 = (30+40+50+60)/4\n",
    "# y4 55 = (40+50+60+70)/4\n",
    "# y5 65 = (50+60+70+80)/4\n",
    "# y6 75 = (60+70+80+90)/4\n",
    "# y7 85 = (70+80+90+100)/4\n",
    "# Thus, the moving average sequence has n-k+1=10-4+1=7 values.#\n",
    "#################################################################################################\n",
    "def calMovingAverage(inputList, k):\n",
    "    #print(\"Moving Average\")\n",
    "    returnList=[]\n",
    "    totalNumVal = len(inputList) - k +1\n",
    "    #print(totalNumVal)\n",
    "    outer = 0\n",
    "    inner = 0\n",
    "    for outer in range(totalNumVal):\n",
    "        startPosition = outer\n",
    "        #print(startPosition)\n",
    "        runningTotal = 0\n",
    "        j=0\n",
    "        while j < k:\n",
    "            #print(inputList[j+startPosition])\n",
    "            runningTotal = runningTotal + inputList[j+startPosition]\n",
    "            j = j + 1\n",
    "        average = runningTotal/k    \n",
    "        returnList.append(average)\n",
    "    \n",
    "    return returnList   \n",
    "calMovingAverage([10,20,30,40,50,60,70,80,90,100],4)\n",
    "\n"
   ]
  }
 ],
 "metadata": {
  "kernelspec": {
   "display_name": "Python 3",
   "language": "python",
   "name": "python3"
  },
  "language_info": {
   "codemirror_mode": {
    "name": "ipython",
    "version": 3
   },
   "file_extension": ".py",
   "mimetype": "text/x-python",
   "name": "python",
   "nbconvert_exporter": "python",
   "pygments_lexer": "ipython3",
   "version": "3.6.3"
  }
 },
 "nbformat": 4,
 "nbformat_minor": 2
}
